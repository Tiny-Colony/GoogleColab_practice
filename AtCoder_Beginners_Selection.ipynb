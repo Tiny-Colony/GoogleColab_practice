{
  "nbformat": 4,
  "nbformat_minor": 0,
  "metadata": {
    "colab": {
      "provenance": [],
      "authorship_tag": "ABX9TyN/GuH/ZjOvlB0ppzy3gYvA",
      "include_colab_link": true
    },
    "kernelspec": {
      "name": "python3",
      "display_name": "Python 3"
    },
    "language_info": {
      "name": "python"
    }
  },
  "cells": [
    {
      "cell_type": "markdown",
      "metadata": {
        "id": "view-in-github",
        "colab_type": "text"
      },
      "source": [
        "<a href=\"https://colab.research.google.com/github/Tiny-Colony/GoogleColab_practice/blob/main/AtCoder_Beginners_Selection.ipynb\" target=\"_parent\"><img src=\"https://colab.research.google.com/assets/colab-badge.svg\" alt=\"Open In Colab\"/></a>"
      ]
    },
    {
      "cell_type": "markdown",
      "source": [
        "PracticeA - Welcome to AtCoder"
      ],
      "metadata": {
        "id": "GdNAAwt7f9vP"
      }
    },
    {
      "cell_type": "code",
      "execution_count": null,
      "metadata": {
        "id": "zmDBH6yEZ6KF"
      },
      "outputs": [],
      "source": [
        "a = int(input())\n",
        "b, c = map(int, input().split())\n",
        "s = input()\n",
        "\n",
        "a = a + b + c\n",
        "print(a, s)"
      ]
    },
    {
      "cell_type": "markdown",
      "source": [
        "ABC086A - Product"
      ],
      "metadata": {
        "id": "j5beDvZSf8zr"
      }
    },
    {
      "cell_type": "code",
      "source": [
        "a,b = map(int, input().split())\n",
        "\n",
        "if a*b % 2 == 0:\n",
        "  print(\"Even\")\n",
        "else:\n",
        "  print(\"Odd\")"
      ],
      "metadata": {
        "id": "boD-0wLQlAnL"
      },
      "execution_count": null,
      "outputs": []
    },
    {
      "cell_type": "markdown",
      "source": [
        "ABC081A - Placing Marbles"
      ],
      "metadata": {
        "id": "Du79OcUFnOIY"
      }
    },
    {
      "cell_type": "code",
      "source": [
        "x = list(int(input()))\n",
        "\n",
        "for i in x:\n",
        "  if i == \"1\";\n",
        "    count += 1\n",
        "print(count)"
      ],
      "metadata": {
        "id": "fDJlR9F9nOaS"
      },
      "execution_count": null,
      "outputs": []
    },
    {
      "cell_type": "markdown",
      "source": [
        "ABC081B - Shift only"
      ],
      "metadata": {
        "id": "rO_Ckrc6o1YX"
      }
    },
    {
      "cell_type": "code",
      "source": [
        "def divide():\n",
        "  for i in range(len(A)):\n",
        "    A[i] = A[i] // 2\n",
        "  return A\n",
        "\n",
        "def check():\n",
        "  for i in range(len(A)):\n",
        "    if A[i] % 2 != 0:\n",
        "      return False\n",
        "  return True\n",
        "\n",
        "N = int(input())\n",
        "A = list(map(int, input().split()))\n",
        "\n",
        "count = 0\n",
        "while check() == True:\n",
        "  count += 1\n",
        "  A = divide()\n",
        "\n",
        "print(count)"
      ],
      "metadata": {
        "id": "jwDaT9ENo36n"
      },
      "execution_count": null,
      "outputs": []
    },
    {
      "cell_type": "markdown",
      "source": [
        "ABC087B - Coins"
      ],
      "metadata": {
        "id": "2JijVuCStRVr"
      }
    },
    {
      "cell_type": "code",
      "source": [
        "A = int(input())\n",
        "B = int(input())\n",
        "C = int(input())\n",
        "X = int(input())\n",
        "count = 0\n",
        "\n",
        "for i in range(A+1):\n",
        "  for j in range(B+1):\n",
        "    for k in range(C+1):\n",
        "      if 500*i + 100*j + 50*k == X:\n",
        "        count += 1\n",
        "print(count)"
      ],
      "metadata": {
        "id": "R1aqDwRmvTcD"
      },
      "execution_count": null,
      "outputs": []
    }
  ]
}