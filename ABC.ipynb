{
  "nbformat": 4,
  "nbformat_minor": 0,
  "metadata": {
    "colab": {
      "provenance": [],
      "authorship_tag": "ABX9TyMbrpErf3KMEUSx+uyWtBWN",
      "include_colab_link": true
    },
    "kernelspec": {
      "name": "python3",
      "display_name": "Python 3"
    },
    "language_info": {
      "name": "python"
    }
  },
  "cells": [
    {
      "cell_type": "markdown",
      "metadata": {
        "id": "view-in-github",
        "colab_type": "text"
      },
      "source": [
        "<a href=\"https://colab.research.google.com/github/Tiny-Colony/GoogleColab_practice/blob/main/ABC.ipynb\" target=\"_parent\"><img src=\"https://colab.research.google.com/assets/colab-badge.svg\" alt=\"Open In Colab\"/></a>"
      ]
    },
    {
      "cell_type": "markdown",
      "source": [
        "# ABC398"
      ],
      "metadata": {
        "id": "5cu8s9fp8jWI"
      }
    },
    {
      "cell_type": "code",
      "source": [
        "#A\n",
        "N = int(input())\n",
        "x = \"\"\n",
        "if N % 2 == 1:\n",
        "  for i in range(N//2):\n",
        "    x += \"-\"\n",
        "  x += \"=\"\n",
        "  for i in range(N//2):\n",
        "    x += \"-\"\n",
        "else:\n",
        "  for i in range(1,N//2):\n",
        "    x += \"-\"\n",
        "  x += \"==\"\n",
        "  for i in range(1,N//2):\n",
        "    x += \"-\"\n",
        "print(x)"
      ],
      "metadata": {
        "id": "YXLlYiMW8jIp"
      },
      "execution_count": null,
      "outputs": []
    },
    {
      "cell_type": "code",
      "source": [
        "#B\n",
        "A = list(map(int,input().split()))\n",
        "tmp = 0\n",
        "count = 0\n",
        "flag1 = 0\n",
        "flag2 = 0\n",
        "A.sort()\n",
        "for i in A:\n",
        "  if tmp == i:\n",
        "    count += 1\n",
        "  else:\n",
        "    count = 1\n",
        "  tmp = i\n",
        "  if count >= 3:\n",
        "    flag1 += 1\n",
        "    continue\n",
        "  if count == 2:\n",
        "    flag2 += 1\n",
        "    continue\n",
        "if flag1 == 1 and flag2 <= 2:\n",
        "  print(\"Yes\")\n",
        "else:\n",
        "  print(\"No\")\n"
      ],
      "metadata": {
        "id": "S-ZHzgwy_F3I"
      },
      "execution_count": null,
      "outputs": []
    },
    {
      "cell_type": "code",
      "source": [
        "#C\n",
        "from collections import defaultdict\n",
        "\n",
        "N=int(input())\n",
        "A=list(map(int,input().split()))\n",
        "\n",
        "d=defaultdict(list) #list型で初期化\n",
        "for i,a in enumerate(A):\n",
        "  d[a].append(i) #dの配列番号に要素を、要素に配列番号を入れる\n",
        "\n",
        "for key in sorted(d, reverse=True): #大きい順\n",
        "  if len(d[key])==1: #初期化されていたら\n",
        "    print(d[key][0]+1) #重複のない一番大きな値\n",
        "    exit()\n",
        "\n",
        "print(-1)\n"
      ],
      "metadata": {
        "id": "PSrqzKnNNOx8"
      },
      "execution_count": null,
      "outputs": []
    },
    {
      "cell_type": "markdown",
      "source": [
        "# ABC399"
      ],
      "metadata": {
        "id": "qi92MrkyBfTL"
      }
    },
    {
      "cell_type": "code",
      "source": [
        "#A\n",
        "N = int(input())\n",
        "S = list(input())\n",
        "T = list(input())\n",
        "count = 0\n",
        "for i in range(N):\n",
        "  if S[i] != T[i]:\n",
        "    count += 1\n",
        "print(count)"
      ],
      "metadata": {
        "id": "lp__bZlhBd35"
      },
      "execution_count": null,
      "outputs": []
    },
    {
      "cell_type": "code",
      "source": [
        "#B\n",
        "N = int(input())\n",
        "P = list(map(int,input().split()))\n",
        "R = [0 for _ in range(N)]\n",
        "r = 1\n",
        "while r != N + 1:\n",
        "  x = max(P)\n",
        "  que = [i for i, a in enumerate(P) if a == x]\n",
        "  for i in range(len(que)):\n",
        "    R[que[i]] = r\n",
        "    P[que[i]] = -1\n",
        "  r += len(que)\n",
        "print(*R, sep='\\n')"
      ],
      "metadata": {
        "id": "VXH8ikEnmHqN"
      },
      "execution_count": null,
      "outputs": []
    },
    {
      "cell_type": "code",
      "source": [
        "#C\n",
        "class UnionFind:\n",
        "    def __init__(self, n):\n",
        "        self.parent = list(range(n))\n",
        "        self.rank = [0] * n\n",
        "\n",
        "    def find(self, x):\n",
        "        if self.parent[x] != x:\n",
        "            self.parent[x] = self.find(self.parent[x])\n",
        "        return self.parent[x]\n",
        "\n",
        "    def unite(self, x, y):\n",
        "        px, py = self.find(x), self.find(y)\n",
        "        if px == py:\n",
        "            return False\n",
        "        if self.rank[px] < self.rank[py]:\n",
        "            px, py = py, px\n",
        "        self.parent[py] = px\n",
        "        if self.rank[px] == self.rank[py]:\n",
        "            self.rank[px] += 1\n",
        "        return True\n",
        "\n",
        "def solve(N, M, edges):# 削除する必要のある辺の数をカウント\n",
        "    uf = UnionFind(N)\n",
        "    remove_count = 0\n",
        "\n",
        "    for u, v in edges:\n",
        "        u, v = u-1, v-1 # 辺を追加したときに閉路ができる場合\n",
        "        if not uf.unite(u, v):\n",
        "            remove_count += 1\n",
        "\n",
        "    return remove_count\n",
        "\n",
        "N, M = map(int, input().split())\n",
        "edges = [list(map(int, input().split())) for _ in range(M)]\n",
        "\n",
        "print(solve(N, M, edges))\n"
      ],
      "metadata": {
        "id": "iEN4m3e-yWse"
      },
      "execution_count": null,
      "outputs": []
    },
    {
      "cell_type": "markdown",
      "source": [
        "# ABC400"
      ],
      "metadata": {
        "id": "vFbqUn7JP8Ae"
      }
    },
    {
      "cell_type": "code",
      "source": [
        "#A\n",
        "A = int(input())\n",
        "\n",
        "if 400 % A == 0:\n",
        "  print(400 // A)\n",
        "else:\n",
        "  print(\"-1\")"
      ],
      "metadata": {
        "id": "yxfsCHR8P8sz"
      },
      "execution_count": null,
      "outputs": []
    },
    {
      "cell_type": "code",
      "source": [
        "#B\n",
        "N,M = map(int,input().split())\n",
        "\n",
        "x = 0\n",
        "y = pow(10,9)\n",
        "for i in range(M+1):\n",
        "  x += pow(N,i)\n",
        "  if x > y:\n",
        "    print(\"inf\")\n",
        "    exit()\n",
        "print(x)"
      ],
      "metadata": {
        "id": "euahXQp5LkiA"
      },
      "execution_count": null,
      "outputs": []
    },
    {
      "cell_type": "code",
      "source": [
        "#C  全部作って判定するより何個あるか数えるほうが早いらしい\n",
        "import math\n",
        "N = int(input())\n",
        "ans = 0\n",
        "pow = 1\n",
        "\n",
        "n = N // (2 ** pow)\n",
        "while n > 0:\n",
        "    r = math.isqrt(n)\n",
        "    # 1~rまでの奇数の数\n",
        "    if r % 2 == 0:\n",
        "        ans += r // 2\n",
        "    else:\n",
        "        ans += (r + 1) // 2\n",
        "    pow += 1\n",
        "    n = N // (2 ** pow)\n",
        "print(ans)\n"
      ],
      "metadata": {
        "id": "vzGWjyseN5tL"
      },
      "execution_count": null,
      "outputs": []
    },
    {
      "cell_type": "code",
      "source": [
        "#D できなかった、復習用\n",
        "from collections import deque\n",
        "import sys\n",
        "\n",
        "sys.setrecursionlimit(1 << 25)\n",
        "\n",
        "# --- 入力 ---\n",
        "H,W = map(int,input().split())\n",
        "S = [list(input()) for i in range(H)]\n",
        "A,B,C,D = map(int,input().split())\n",
        "\n",
        "A -= 1; B -= 1     # 0-indexed に変換\n",
        "C -= 1; D -= 1\n",
        "\n",
        "# --- 0-1 BFS  ---\n",
        "INF = 10 ** 18\n",
        "dist = [[INF] * W for _ in range(H)]  # dist[i][j]: (i,j)に到達するのに必要な最小前蹴り回数\n",
        "dist[A][B] = 0                        # スタート地点は前蹴り0回で到達できる\n",
        "\n",
        "dq = deque([(A, B)])                  # 0-1 BFS用の両端キュー。要素は(現在の行, 現在の列)\n",
        "\n",
        "dirs = [(-1, 0), (1, 0), (0, -1), (0, 1)]  # 上下左右への移動を表すタプルのリスト\n",
        "\n",
        "while dq:\n",
        "    x, y = dq.popleft()               # 現在位置(x, y)をキューから取り出す\n",
        "    d = dist[x][y]                    # 現在位置までの最小前蹴り回数\n",
        "\n",
        "    for dx, dy in dirs:\n",
        "        # --- 1マス先への移動 ---\n",
        "        nx, ny = x + dx, y + dy       # 隣接マスの座標\n",
        "        if 0 <= nx < H and 0 <= ny < W:\n",
        "            # 隣接マスが道ならコスト0、壁ならコスト1\n",
        "            w = 0 if S[nx][ny] == '.' else 1\n",
        "            if dist[nx][ny] > d + w:\n",
        "                dist[nx][ny] = d + w\n",
        "                # コスト0ならキューの先頭、コスト1なら末尾に追加\n",
        "                (dq.appendleft, dq.append)[w]((nx, ny))\n",
        "\n",
        "        # --- 2マス先への前蹴り移動 ---\n",
        "        nx2, ny2 = x + 2*dx, y + 2*dy     # 2マス先の座標\n",
        "        mx, my = x + dx, y + dy           # 1マス先（間のマス）の座標\n",
        "        if 0 <= nx2 < H and 0 <= ny2 < W:\n",
        "            # 1マス先または2マス先が壁なら前蹴りで道にできる（コスト1）\n",
        "            if S[mx][my] == '#' or S[nx2][ny2] == '#':\n",
        "                if dist[nx2][ny2] > d + 1:\n",
        "                    dist[nx2][ny2] = d + 1\n",
        "                    dq.append((nx2, ny2))  # コスト1なので末尾に追加\n",
        "\n",
        "# --- 出力 ---\n",
        "print(dist[C][D])  # 魚屋の位置までの最小前蹴り回数を出力\n"
      ],
      "metadata": {
        "id": "PrEBqmjXg022"
      },
      "execution_count": null,
      "outputs": []
    },
    {
      "cell_type": "markdown",
      "source": [
        "# ABC 401"
      ],
      "metadata": {
        "id": "N1U81jjRHhuM"
      }
    },
    {
      "cell_type": "code",
      "execution_count": null,
      "metadata": {
        "id": "VviMHSk0HRIw"
      },
      "outputs": [],
      "source": [
        "#A\n",
        "S = int(input())\n",
        "\n",
        "if 200 <= S <= 299:\n",
        "  print(\"Success\")\n",
        "else:\n",
        "  print(\"Failure\")"
      ]
    },
    {
      "cell_type": "code",
      "source": [
        "#B\n",
        "N = int(input())\n",
        "word = [\"login\", \"logout\", \"public\", \"private\"]\n",
        "\n",
        "flag = 0\n",
        "err = 0\n",
        "for i in range(N):\n",
        "  S = input()\n",
        "  if word.index(S) == 0:\n",
        "    flag = 1\n",
        "  elif word.index(S) == 1:\n",
        "    flag = 0\n",
        "  elif word.index(S) == 3:\n",
        "    if flag == 0:\n",
        "      err += 1\n",
        "print(err)"
      ],
      "metadata": {
        "id": "_sT0EBCGIhz3"
      },
      "execution_count": null,
      "outputs": []
    },
    {
      "cell_type": "code",
      "source": [
        "#C ＊\n",
        "N, K = map(int, input().split())\n",
        "buf = K\n",
        "A = [1 for i in range(N + 1)]\n",
        "\n",
        "for i in range(K, N + 1):\n",
        "  A[i] = buf\n",
        "  buf -= A[i-K]\n",
        "  buf += A[i]\n",
        "  buf %= pow(10,9)\n",
        "\n",
        "print(A[N])"
      ],
      "metadata": {
        "id": "xgXz_ZUESl7n"
      },
      "execution_count": null,
      "outputs": []
    },
    {
      "cell_type": "code",
      "source": [
        "#D できなかった\n",
        "N, K = map(int, input().split())\n",
        "S = list(input())\n",
        "\n",
        "fixed_o = [i for i, c in enumerate(S) if c == 'o']  #確定しているoの数\n",
        "q_indices = [i for i, c in enumerate(S) if c == '?']  #?の数\n",
        "\n",
        "can_o = []\n",
        "for i in q_indices:  #?のうちoにできる場所を列挙\n",
        "    if (i > 0 and S[i-1] == 'o') or (i < N-1 and S[i+1] == 'o'):\n",
        "        continue\n",
        "    can_o.append(i)\n",
        "\n",
        "need = K - len(fixed_o)  #oにできる個数\n",
        "\n",
        "# ?のうちoにできる場所のうち、どこをoにするかの全ての組み合わせで\n",
        "# 各?が必ずoになるか、必ず.になるか、どちらもあり得るかを判定\n",
        "from itertools import combinations\n",
        "\n",
        "must_o = set()\n",
        "must_dot = set()\n",
        "if need == 0:  #既にoがK個あるので、?は全て.で確定\n",
        "    must_dot = set(q_indices)\n",
        "else:\n",
        "    appear = [0] * N\n",
        "    for comb in combinations(can_o, need):\n",
        "        tmp = S[:]\n",
        "        for idx in comb:\n",
        "            tmp[idx] = 'o'\n",
        "        # 連続oができていないかチェック\n",
        "        ok = True\n",
        "        for j in range(1, N):\n",
        "            if tmp[j] == 'o' and tmp[j-1] == 'o':\n",
        "                ok = False\n",
        "                break\n",
        "        if not ok:\n",
        "            continue\n",
        "        for idx in q_indices:\n",
        "            if tmp[idx] == 'o':\n",
        "                appear[idx] += 1\n",
        "    total = 0\n",
        "    for comb in combinations(can_o, need):\n",
        "        total += 1\n",
        "    for idx in q_indices:\n",
        "        if appear[idx] == total and total > 0:\n",
        "            must_o.add(idx)\n",
        "        elif appear[idx] == 0 and total > 0:\n",
        "            must_dot.add(idx)\n",
        "        # どちらもあり得る場合は?のまま\n",
        "\n",
        "result = []\n",
        "for i in range(N):\n",
        "    if S[i] == 'o':\n",
        "        result.append('o')\n",
        "    elif S[i] == '.':\n",
        "        result.append('.')\n",
        "    elif i in must_o:\n",
        "        result.append('o')\n",
        "    elif i in must_dot:\n",
        "        result.append('.')\n",
        "    else:\n",
        "        result.append('?')\n",
        "\n",
        "print(''.join(result))"
      ],
      "metadata": {
        "colab": {
          "base_uri": "https://localhost:8080/",
          "height": 375
        },
        "id": "u4QImI0EczAg",
        "outputId": "329122c9-1810-4e6a-9624-b7e7bc77a568"
      },
      "execution_count": null,
      "outputs": [
        {
          "output_type": "error",
          "ename": "KeyboardInterrupt",
          "evalue": "Interrupted by user",
          "traceback": [
            "\u001b[0;31m---------------------------------------------------------------------------\u001b[0m",
            "\u001b[0;31mKeyboardInterrupt\u001b[0m                         Traceback (most recent call last)",
            "\u001b[0;32m<ipython-input-1-84e0178cdbc2>\u001b[0m in \u001b[0;36m<cell line: 0>\u001b[0;34m()\u001b[0m\n\u001b[1;32m      1\u001b[0m \u001b[0;31m#D できなかった\u001b[0m\u001b[0;34m\u001b[0m\u001b[0;34m\u001b[0m\u001b[0m\n\u001b[0;32m----> 2\u001b[0;31m \u001b[0mN\u001b[0m\u001b[0;34m,\u001b[0m \u001b[0mK\u001b[0m \u001b[0;34m=\u001b[0m \u001b[0mmap\u001b[0m\u001b[0;34m(\u001b[0m\u001b[0mint\u001b[0m\u001b[0;34m,\u001b[0m \u001b[0minput\u001b[0m\u001b[0;34m(\u001b[0m\u001b[0;34m)\u001b[0m\u001b[0;34m.\u001b[0m\u001b[0msplit\u001b[0m\u001b[0;34m(\u001b[0m\u001b[0;34m)\u001b[0m\u001b[0;34m)\u001b[0m\u001b[0;34m\u001b[0m\u001b[0;34m\u001b[0m\u001b[0m\n\u001b[0m\u001b[1;32m      3\u001b[0m \u001b[0mS\u001b[0m \u001b[0;34m=\u001b[0m \u001b[0mlist\u001b[0m\u001b[0;34m(\u001b[0m\u001b[0minput\u001b[0m\u001b[0;34m(\u001b[0m\u001b[0;34m)\u001b[0m\u001b[0;34m)\u001b[0m\u001b[0;34m\u001b[0m\u001b[0;34m\u001b[0m\u001b[0m\n\u001b[1;32m      4\u001b[0m \u001b[0;34m\u001b[0m\u001b[0m\n\u001b[1;32m      5\u001b[0m \u001b[0mfixed_o\u001b[0m \u001b[0;34m=\u001b[0m \u001b[0;34m[\u001b[0m\u001b[0mi\u001b[0m \u001b[0;32mfor\u001b[0m \u001b[0mi\u001b[0m\u001b[0;34m,\u001b[0m \u001b[0mc\u001b[0m \u001b[0;32min\u001b[0m \u001b[0menumerate\u001b[0m\u001b[0;34m(\u001b[0m\u001b[0mS\u001b[0m\u001b[0;34m)\u001b[0m \u001b[0;32mif\u001b[0m \u001b[0mc\u001b[0m \u001b[0;34m==\u001b[0m \u001b[0;34m'o'\u001b[0m\u001b[0;34m]\u001b[0m  \u001b[0;31m#確定しているoの数\u001b[0m\u001b[0;34m\u001b[0m\u001b[0;34m\u001b[0m\u001b[0m\n",
            "\u001b[0;32m/usr/local/lib/python3.11/dist-packages/ipykernel/kernelbase.py\u001b[0m in \u001b[0;36mraw_input\u001b[0;34m(self, prompt)\u001b[0m\n\u001b[1;32m   1175\u001b[0m                 \u001b[0;34m\"raw_input was called, but this frontend does not support input requests.\"\u001b[0m\u001b[0;34m\u001b[0m\u001b[0;34m\u001b[0m\u001b[0m\n\u001b[1;32m   1176\u001b[0m             )\n\u001b[0;32m-> 1177\u001b[0;31m         return self._input_request(\n\u001b[0m\u001b[1;32m   1178\u001b[0m             \u001b[0mstr\u001b[0m\u001b[0;34m(\u001b[0m\u001b[0mprompt\u001b[0m\u001b[0;34m)\u001b[0m\u001b[0;34m,\u001b[0m\u001b[0;34m\u001b[0m\u001b[0;34m\u001b[0m\u001b[0m\n\u001b[1;32m   1179\u001b[0m             \u001b[0mself\u001b[0m\u001b[0;34m.\u001b[0m\u001b[0m_parent_ident\u001b[0m\u001b[0;34m[\u001b[0m\u001b[0;34m\"shell\"\u001b[0m\u001b[0;34m]\u001b[0m\u001b[0;34m,\u001b[0m\u001b[0;34m\u001b[0m\u001b[0;34m\u001b[0m\u001b[0m\n",
            "\u001b[0;32m/usr/local/lib/python3.11/dist-packages/ipykernel/kernelbase.py\u001b[0m in \u001b[0;36m_input_request\u001b[0;34m(self, prompt, ident, parent, password)\u001b[0m\n\u001b[1;32m   1217\u001b[0m             \u001b[0;32mexcept\u001b[0m \u001b[0mKeyboardInterrupt\u001b[0m\u001b[0;34m:\u001b[0m\u001b[0;34m\u001b[0m\u001b[0;34m\u001b[0m\u001b[0m\n\u001b[1;32m   1218\u001b[0m                 \u001b[0;31m# re-raise KeyboardInterrupt, to truncate traceback\u001b[0m\u001b[0;34m\u001b[0m\u001b[0;34m\u001b[0m\u001b[0m\n\u001b[0;32m-> 1219\u001b[0;31m                 \u001b[0;32mraise\u001b[0m \u001b[0mKeyboardInterrupt\u001b[0m\u001b[0;34m(\u001b[0m\u001b[0;34m\"Interrupted by user\"\u001b[0m\u001b[0;34m)\u001b[0m \u001b[0;32mfrom\u001b[0m \u001b[0;32mNone\u001b[0m\u001b[0;34m\u001b[0m\u001b[0;34m\u001b[0m\u001b[0m\n\u001b[0m\u001b[1;32m   1220\u001b[0m             \u001b[0;32mexcept\u001b[0m \u001b[0mException\u001b[0m\u001b[0;34m:\u001b[0m\u001b[0;34m\u001b[0m\u001b[0;34m\u001b[0m\u001b[0m\n\u001b[1;32m   1221\u001b[0m                 \u001b[0mself\u001b[0m\u001b[0;34m.\u001b[0m\u001b[0mlog\u001b[0m\u001b[0;34m.\u001b[0m\u001b[0mwarning\u001b[0m\u001b[0;34m(\u001b[0m\u001b[0;34m\"Invalid Message:\"\u001b[0m\u001b[0;34m,\u001b[0m \u001b[0mexc_info\u001b[0m\u001b[0;34m=\u001b[0m\u001b[0;32mTrue\u001b[0m\u001b[0;34m)\u001b[0m\u001b[0;34m\u001b[0m\u001b[0;34m\u001b[0m\u001b[0m\n",
            "\u001b[0;31mKeyboardInterrupt\u001b[0m: Interrupted by user"
          ]
        }
      ]
    },
    {
      "cell_type": "markdown",
      "source": [
        "# ABC 404"
      ],
      "metadata": {
        "id": "9Ewcx87MBhy6"
      }
    },
    {
      "cell_type": "code",
      "source": [
        "#A\n",
        "S = input()\n",
        "alp = list(\"abcdefghijklmnopqrstuvwxyz\")\n",
        "\n",
        "for i in alp:\n",
        "  if not i in S:\n",
        "    print(i)\n",
        "    exit()"
      ],
      "metadata": {
        "id": "rucPbu7BBnaS"
      },
      "execution_count": null,
      "outputs": []
    },
    {
      "cell_type": "code",
      "source": [
        "#B\n",
        "import math\n",
        "N = int(input())\n",
        "S = [input() for i in range(N)]\n",
        "T = [input() for i in range(N)]\n",
        "\n",
        "min = math.inf\n",
        "for r in range(4):\n",
        "  count = r\n",
        "  for row1, row2 in zip(S, T):\n",
        "    for elem1, elem2 in zip(row1, row2):\n",
        "      if elem1 != elem2:\n",
        "        count += 1\n",
        "  if count < min:\n",
        "    min = count\n",
        "  S = list(zip(*S[::-1]))\n",
        "\n",
        "print(min)"
      ],
      "metadata": {
        "id": "Db0YfR-9C9Mr"
      },
      "execution_count": null,
      "outputs": []
    },
    {
      "cell_type": "code",
      "source": [
        "#C\n",
        "N, M = map(int, input().split())\n",
        "\n",
        "degree = [0] * (N + 1)\n",
        "graph = [[] for _ in range(N + 1)]\n",
        "\n",
        "for i in range(M):\n",
        "  A, B = map(int, input().split())\n",
        "  degree[A] += 1\n",
        "  degree[B] += 1\n",
        "  graph[A].append(B)\n",
        "  graph[B].append(A)\n",
        "\n",
        "if N != M:\n",
        "  print(\"No\")\n",
        "  exit()\n",
        "\n",
        "for i in range(1, N + 1):\n",
        "  if degree[i] != 2:\n",
        "    print(\"No\")\n",
        "    exit()\n",
        "\n",
        "visited = [False] * (N + 1)\n",
        "v = 1\n",
        "for _ in range(N):\n",
        "  visited[v] = True\n",
        "  for next in graph[v]:\n",
        "    if not visited[next]:\n",
        "      v = next\n",
        "\n",
        "for i in range(1, N + 1):\n",
        "  if not visited[i]:\n",
        "    print(\"No\")\n",
        "    exit()\n",
        "\n",
        "print(\"Yes\")"
      ],
      "metadata": {
        "id": "_gpksQfXMUc7"
      },
      "execution_count": null,
      "outputs": []
    }
  ]
}