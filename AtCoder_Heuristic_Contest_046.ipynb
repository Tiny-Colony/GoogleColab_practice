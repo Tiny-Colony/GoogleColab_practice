{
  "nbformat": 4,
  "nbformat_minor": 0,
  "metadata": {
    "colab": {
      "provenance": [],
      "authorship_tag": "ABX9TyNR/lKPvdRe2TPWhqrPX1BT",
      "include_colab_link": true
    },
    "kernelspec": {
      "name": "python3",
      "display_name": "Python 3"
    },
    "language_info": {
      "name": "python"
    }
  },
  "cells": [
    {
      "cell_type": "markdown",
      "metadata": {
        "id": "view-in-github",
        "colab_type": "text"
      },
      "source": [
        "<a href=\"https://colab.research.google.com/github/Tiny-Colony/GoogleColab_practice/blob/main/AtCoder_Heuristic_Contest_046.ipynb\" target=\"_parent\"><img src=\"https://colab.research.google.com/assets/colab-badge.svg\" alt=\"Open In Colab\"/></a>"
      ]
    },
    {
      "cell_type": "markdown",
      "source": [
        "名前がついているアルゴリズムが思いつかず、標準的な計算処理だけで解いた。変更は使えなかった。204000点くらい。"
      ],
      "metadata": {
        "id": "is0tr-aOMaYA"
      }
    },
    {
      "cell_type": "code",
      "execution_count": null,
      "metadata": {
        "id": "lLhP1xFuKAJ8"
      },
      "outputs": [],
      "source": [
        "def move_up():\n",
        "  while here[0] > next[0]:\n",
        "    here[0] -= 1\n",
        "    print(\"M U\")\n",
        "\n",
        "def move_down():\n",
        "  while here[0] < next[0]:\n",
        "    here[0] += 1\n",
        "    print(\"M D\")\n",
        "\n",
        "def move_left():\n",
        "  while here[1] > next[1]:\n",
        "    here[1] -= 1\n",
        "    print(\"M L\")\n",
        "\n",
        "def move_right():\n",
        "  while here[1] < next[1]:\n",
        "    here[1] += 1\n",
        "    print(\"M R\")\n",
        "\n",
        "def slide_up():\n",
        "  here[0] = 0\n",
        "  print(\"S U\")\n",
        "  move_down()\n",
        "\n",
        "def slide_down():\n",
        "  here[0] = 19\n",
        "  print(\"S D\")\n",
        "  move_up()\n",
        "\n",
        "def slide_left():\n",
        "  here[1] = 0\n",
        "  print(\"S L\")\n",
        "  move_right()\n",
        "\n",
        "def slide_right():\n",
        "  here[1] = 19\n",
        "  print(\"S R\")\n",
        "  move_left()\n",
        "\n",
        "#def change_up():\n",
        "\n",
        "def move_select(m):  #移動方向を決定する関数\n",
        "  if m == 0:  #上下\n",
        "    if here_next[0] < 0:\n",
        "      move_up()\n",
        "    else:\n",
        "      move_down()\n",
        "  if m == 1:  #左右\n",
        "    if here_next[1] < 0:\n",
        "      move_left()\n",
        "    else:\n",
        "      move_right()\n",
        "\n",
        "def slide_select(s):  #滑走方向を決定する関数\n",
        "  if s == 0:  #上下\n",
        "    if here_next[0] < 0:\n",
        "      slide_up()\n",
        "    else:\n",
        "      slide_down()\n",
        "  if s == 1:  #左右\n",
        "    if here_next[1] < 0:\n",
        "      slide_left()\n",
        "    else:\n",
        "      slide_right()\n",
        "\n",
        "def action_select():  #行動を決定する関数\n",
        "  global here_next\n",
        "  global next_wall\n",
        "  here_next = [next[0]-here[0], next[1]-here[1]]  #現在地と目的地の差\n",
        "  for i in range(2):\n",
        "    if next[i] < 10:\n",
        "      next_wall = next  #目的地と壁(0,0)の差\n",
        "    else:\n",
        "      next_wall = [19-next[0], 19-next[1]]  #目的地と壁(20,20)の差\n",
        "    if abs(here_next[i]) == 0:\n",
        "      continue\n",
        "    elif next_wall[i] >= abs(here_next[i]):  #移動に決定\n",
        "      move_select(i)\n",
        "    else:  #滑走に決定\n",
        "      slide_select(i)\n",
        "\n",
        "\n",
        "N, M = map(int, input().split())  #盤面の大きさ、目的地の数\n",
        "route = [[0 for j in range(2)] for i in range(M)]  #目的地の座標\n",
        "for i in range(M):  #すべての目的地を格納\n",
        "  x, y = map(int, input().split())\n",
        "  route[i][0] = x\n",
        "  route[i][1] = y\n",
        "\n",
        "here = [route[0][0], route[0][1]]  #現在地(x,y)\n",
        "next = [route[1][0], route[1][1]]  #次の目的地(x,y)\n",
        "here_next = [0,0]  #現在地と目的地の差の初期値\n",
        "next_wall = [0,0]  #目的地と壁(0,0)の差の初期値\n",
        "\n",
        "for i in range(1,M):\n",
        "  next = [route[i][0], route[i][1]]  #次の目的地を設定\n",
        "  action_select()"
      ]
    }
  ]
}
