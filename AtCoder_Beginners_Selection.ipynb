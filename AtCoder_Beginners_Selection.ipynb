{
  "nbformat": 4,
  "nbformat_minor": 0,
  "metadata": {
    "colab": {
      "provenance": [],
      "authorship_tag": "ABX9TyOBzCa9y2MWAaOLOR6AGAID",
      "include_colab_link": true
    },
    "kernelspec": {
      "name": "python3",
      "display_name": "Python 3"
    },
    "language_info": {
      "name": "python"
    }
  },
  "cells": [
    {
      "cell_type": "markdown",
      "metadata": {
        "id": "view-in-github",
        "colab_type": "text"
      },
      "source": [
        "<a href=\"https://colab.research.google.com/github/Tiny-Colony/GoogleColab_practice/blob/main/AtCoder_Beginners_Selection.ipynb\" target=\"_parent\"><img src=\"https://colab.research.google.com/assets/colab-badge.svg\" alt=\"Open In Colab\"/></a>"
      ]
    },
    {
      "cell_type": "markdown",
      "source": [
        "PracticeA - Welcome to AtCoder"
      ],
      "metadata": {
        "id": "GdNAAwt7f9vP"
      }
    },
    {
      "cell_type": "code",
      "execution_count": null,
      "metadata": {
        "id": "zmDBH6yEZ6KF"
      },
      "outputs": [],
      "source": [
        "a = int(input())\n",
        "b, c = map(int, input().split())\n",
        "s = input()\n",
        "\n",
        "a = a + b + c\n",
        "print(a, s)"
      ]
    },
    {
      "cell_type": "markdown",
      "source": [
        "ABC086A - Product"
      ],
      "metadata": {
        "id": "j5beDvZSf8zr"
      }
    },
    {
      "cell_type": "code",
      "source": [
        "a,b = map(int, input().split())\n",
        "\n",
        "if a*b % 2 == 0:\n",
        "  print(\"Even\")\n",
        "else:\n",
        "  print(\"Odd\")"
      ],
      "metadata": {
        "id": "boD-0wLQlAnL"
      },
      "execution_count": null,
      "outputs": []
    },
    {
      "cell_type": "markdown",
      "source": [
        "ABC081A - Placing Marbles"
      ],
      "metadata": {
        "id": "Du79OcUFnOIY"
      }
    },
    {
      "cell_type": "code",
      "source": [
        "x = list(int(input()))\n",
        "\n",
        "for i in x:\n",
        "  if i == \"1\";\n",
        "    count += 1\n",
        "print(count)"
      ],
      "metadata": {
        "id": "fDJlR9F9nOaS"
      },
      "execution_count": null,
      "outputs": []
    },
    {
      "cell_type": "markdown",
      "source": [
        "ABC081B - Shift only"
      ],
      "metadata": {
        "id": "rO_Ckrc6o1YX"
      }
    },
    {
      "cell_type": "code",
      "source": [
        "def divide():\n",
        "  for i in range(len(A)):\n",
        "    A[i] = A[i] // 2\n",
        "  return A\n",
        "\n",
        "def check():\n",
        "  for i in range(len(A)):\n",
        "    if A[i] % 2 != 0:\n",
        "      return False\n",
        "  return True\n",
        "\n",
        "N = int(input())\n",
        "A = list(map(int, input().split()))\n",
        "\n",
        "count = 0\n",
        "while check() == True:\n",
        "  count += 1\n",
        "  A = divide()\n",
        "\n",
        "print(count)"
      ],
      "metadata": {
        "id": "jwDaT9ENo36n"
      },
      "execution_count": null,
      "outputs": []
    },
    {
      "cell_type": "markdown",
      "source": [
        "ABC087B - Coins"
      ],
      "metadata": {
        "id": "2JijVuCStRVr"
      }
    },
    {
      "cell_type": "code",
      "source": [
        "A = int(input())\n",
        "B = int(input())\n",
        "C = int(input())\n",
        "X = int(input())\n",
        "count = 0\n",
        "\n",
        "for i in range(A+1):\n",
        "  for j in range(B+1):\n",
        "    for k in range(C+1):\n",
        "      if 500*i + 100*j + 50*k == X:\n",
        "        count += 1\n",
        "print(count)"
      ],
      "metadata": {
        "id": "R1aqDwRmvTcD"
      },
      "execution_count": null,
      "outputs": []
    },
    {
      "cell_type": "markdown",
      "source": [
        "ABC083B - Some Sums"
      ],
      "metadata": {
        "id": "7fN4DkQVQbpf"
      }
    },
    {
      "cell_type": "code",
      "source": [
        "def calc(n):\n",
        "  res = 0\n",
        "  while n > 0:\n",
        "    res += n % 10\n",
        "    n /= 10\n",
        "  return res\n",
        "\n",
        "N,A,B = map(int,input().split())\n",
        "\n",
        "sum = 0\n",
        "for x in range(1,N+1):\n",
        "  if A <= calc(x) <= B:\n",
        "    sum += x\n",
        "print(sum)"
      ],
      "metadata": {
        "id": "E_FJ7-mUQdct"
      },
      "execution_count": null,
      "outputs": []
    },
    {
      "cell_type": "markdown",
      "source": [
        "ABC088B - Card Game for Two"
      ],
      "metadata": {
        "id": "Xgo6o34BbYCV"
      }
    },
    {
      "cell_type": "code",
      "source": [
        "N = int(input())\n",
        "A = list(map(int,input().split()))\n",
        "\n",
        "A.sort(reverse=True)\n",
        "Alice = 0\n",
        "Bob = 0\n",
        "for i in A[::2]:\n",
        "  Alice += i\n",
        "for i in A[1::2]:\n",
        "  Bob += i\n",
        "Alice = Alice - Bob\n",
        "print(Alice)"
      ],
      "metadata": {
        "id": "XM-_oSBSbaoa"
      },
      "execution_count": null,
      "outputs": []
    },
    {
      "cell_type": "markdown",
      "source": [
        "ABC085B - Kagami Mochi"
      ],
      "metadata": {
        "id": "HAmyOIpmhT92"
      }
    },
    {
      "cell_type": "code",
      "source": [
        "N = int(input())\n",
        "\n",
        "Mochi = list()\n",
        "for i in range(N):\n",
        "  x = int(input())\n",
        "  if all(x != y for y in Mochi):\n",
        "    Mochi.append(x)\n",
        "\n",
        "print(len(Mochi))"
      ],
      "metadata": {
        "id": "WyVGb4pHhUg9"
      },
      "execution_count": null,
      "outputs": []
    },
    {
      "cell_type": "markdown",
      "source": [
        "ABC085C - Otoshidama"
      ],
      "metadata": {
        "id": "YbBqwmipj-yE"
      }
    },
    {
      "cell_type": "code",
      "source": [
        "N,Y = map(int,input().split())\n",
        "\n",
        "for x in range(N+1):\n",
        "  for y in range(N-x+1):\n",
        "    z = N - x - y\n",
        "    if 10000*x + 5000*y + 1000*z == Y:\n",
        "      print(x,y,z)\n",
        "      exit()\n",
        "\n",
        "print(-1,-1,-1)\n"
      ],
      "metadata": {
        "id": "uGSo8v1wkMHH"
      },
      "execution_count": null,
      "outputs": []
    },
    {
      "cell_type": "markdown",
      "source": [
        "ABC049C - 白昼夢"
      ],
      "metadata": {
        "id": "IjOkKa4trZ2w"
      }
    },
    {
      "cell_type": "code",
      "source": [
        "def daydream():\n",
        "  global buf\n",
        "  if buf.startswith(\"dream\") == True:\n",
        "    if buf.startswith(\"dreamerase\") == True:\n",
        "      if buf.startswith(\"dreameraser\") == True:\n",
        "        buf = buf.removeprefix('dreameraser')\n",
        "        return \"dreameraser\"\n",
        "      buf = buf.removeprefix(\"dreamerase\")\n",
        "      return \"dreamerase\"\n",
        "    if buf.startswith(\"dreamer\") == True:\n",
        "      buf = buf.removeprefix(\"dreamer\")\n",
        "      return \"dreamer\"\n",
        "    buf = buf.removeprefix(\"dream\")\n",
        "    return \"dream\"\n",
        "  if buf.startswith(\"erase\") == True:\n",
        "    if buf.startswith(\"eraser\") == True:\n",
        "      buf = buf.removeprefix('eraser')\n",
        "      return \"eraser\"\n",
        "    buf = buf.removeprefix(\"erase\")\n",
        "    return \"erase\"\n",
        "  print(\"NO\")\n",
        "  exit()\n",
        "\n",
        "S = input()\n",
        "T = \"\"\n",
        "buf = S\n",
        "\n",
        "while len(T) < len(S):\n",
        "  T += daydream()\n",
        "\n",
        "if T == S:\n",
        "  print(\"YES\")\n",
        "else:\n",
        "  print(\"NO\")"
      ],
      "metadata": {
        "id": "jiBC_JHxrb-h"
      },
      "execution_count": null,
      "outputs": []
    }
  ]
}