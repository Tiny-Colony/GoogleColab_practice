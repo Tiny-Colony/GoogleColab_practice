{
  "nbformat": 4,
  "nbformat_minor": 0,
  "metadata": {
    "colab": {
      "provenance": [],
      "toc_visible": true,
      "authorship_tag": "ABX9TyM9yOW8W+irlwAwoWaYTLga",
      "include_colab_link": true
    },
    "kernelspec": {
      "name": "python3",
      "display_name": "Python 3"
    },
    "language_info": {
      "name": "python"
    }
  },
  "cells": [
    {
      "cell_type": "markdown",
      "metadata": {
        "id": "view-in-github",
        "colab_type": "text"
      },
      "source": [
        "<a href=\"https://colab.research.google.com/github/Tiny-Colony/GoogleColab_practice/blob/main/ABC.ipynb\" target=\"_parent\"><img src=\"https://colab.research.google.com/assets/colab-badge.svg\" alt=\"Open In Colab\"/></a>"
      ]
    },
    {
      "cell_type": "markdown",
      "source": [],
      "metadata": {
        "id": "vFbqUn7JP8Ae"
      }
    },
    {
      "cell_type": "code",
      "source": [],
      "metadata": {
        "id": "yxfsCHR8P8sz"
      },
      "execution_count": null,
      "outputs": []
    },
    {
      "cell_type": "markdown",
      "source": [
        "# ABC 401"
      ],
      "metadata": {
        "id": "N1U81jjRHhuM"
      }
    },
    {
      "cell_type": "code",
      "execution_count": null,
      "metadata": {
        "id": "VviMHSk0HRIw"
      },
      "outputs": [],
      "source": [
        "#A\n",
        "S = int(input())\n",
        "\n",
        "if 200 <= S <= 299:\n",
        "  print(\"Success\")\n",
        "else:\n",
        "  print(\"Failure\")"
      ]
    },
    {
      "cell_type": "code",
      "source": [
        "#B\n",
        "N = int(input())\n",
        "word = [\"login\", \"logout\", \"public\", \"private\"]\n",
        "\n",
        "flag = 0\n",
        "err = 0\n",
        "for i in range(N):\n",
        "  S = input()\n",
        "  if word.index(S) == 0:\n",
        "    flag = 1\n",
        "  elif word.index(S) == 1:\n",
        "    flag = 0\n",
        "  elif word.index(S) == 3:\n",
        "    if flag == 0:\n",
        "      err += 1\n",
        "print(err)"
      ],
      "metadata": {
        "id": "_sT0EBCGIhz3"
      },
      "execution_count": null,
      "outputs": []
    },
    {
      "cell_type": "code",
      "source": [
        "#C ＊\n",
        "N, K = map(int, input().split())\n",
        "buf = K\n",
        "A = [1 for i in range(N + 1)]\n",
        "\n",
        "for i in range(K, N + 1):\n",
        "  A[i] = buf\n",
        "  buf -= A[i-K]\n",
        "  buf += A[i]\n",
        "  buf %= pow(10,9)\n",
        "\n",
        "print(A[N])"
      ],
      "metadata": {
        "id": "xgXz_ZUESl7n"
      },
      "execution_count": null,
      "outputs": []
    },
    {
      "cell_type": "code",
      "source": [
        "#D できなかった\n",
        "N, K = map(int, input().split())\n",
        "S = list(input())\n",
        "\n",
        "fixed_o = [i for i, c in enumerate(S) if c == 'o']  #確定しているoの数\n",
        "q_indices = [i for i, c in enumerate(S) if c == '?']  #?の数\n",
        "\n",
        "can_o = []\n",
        "for i in q_indices:  #?のうちoにできる場所を列挙\n",
        "    if (i > 0 and S[i-1] == 'o') or (i < N-1 and S[i+1] == 'o'):\n",
        "        continue\n",
        "    can_o.append(i)\n",
        "\n",
        "need = K - len(fixed_o)  #oにできる個数\n",
        "\n",
        "# ?のうちoにできる場所のうち、どこをoにするかの全ての組み合わせで\n",
        "# 各?が必ずoになるか、必ず.になるか、どちらもあり得るかを判定\n",
        "from itertools import combinations\n",
        "\n",
        "must_o = set()\n",
        "must_dot = set()\n",
        "if need == 0:  #既にoがK個あるので、?は全て.で確定\n",
        "    must_dot = set(q_indices)\n",
        "else:\n",
        "    appear = [0] * N\n",
        "    for comb in combinations(can_o, need):\n",
        "        tmp = S[:]\n",
        "        for idx in comb:\n",
        "            tmp[idx] = 'o'\n",
        "        # 連続oができていないかチェック\n",
        "        ok = True\n",
        "        for j in range(1, N):\n",
        "            if tmp[j] == 'o' and tmp[j-1] == 'o':\n",
        "                ok = False\n",
        "                break\n",
        "        if not ok:\n",
        "            continue\n",
        "        for idx in q_indices:\n",
        "            if tmp[idx] == 'o':\n",
        "                appear[idx] += 1\n",
        "    total = 0\n",
        "    for comb in combinations(can_o, need):\n",
        "        total += 1\n",
        "    for idx in q_indices:\n",
        "        if appear[idx] == total and total > 0:\n",
        "            must_o.add(idx)\n",
        "        elif appear[idx] == 0 and total > 0:\n",
        "            must_dot.add(idx)\n",
        "        # どちらもあり得る場合は?のまま\n",
        "\n",
        "result = []\n",
        "for i in range(N):\n",
        "    if S[i] == 'o':\n",
        "        result.append('o')\n",
        "    elif S[i] == '.':\n",
        "        result.append('.')\n",
        "    elif i in must_o:\n",
        "        result.append('o')\n",
        "    elif i in must_dot:\n",
        "        result.append('.')\n",
        "    else:\n",
        "        result.append('?')\n",
        "\n",
        "print(''.join(result))"
      ],
      "metadata": {
        "colab": {
          "base_uri": "https://localhost:8080/",
          "height": 375
        },
        "id": "u4QImI0EczAg",
        "outputId": "329122c9-1810-4e6a-9624-b7e7bc77a568"
      },
      "execution_count": 1,
      "outputs": [
        {
          "output_type": "error",
          "ename": "KeyboardInterrupt",
          "evalue": "Interrupted by user",
          "traceback": [
            "\u001b[0;31m---------------------------------------------------------------------------\u001b[0m",
            "\u001b[0;31mKeyboardInterrupt\u001b[0m                         Traceback (most recent call last)",
            "\u001b[0;32m<ipython-input-1-84e0178cdbc2>\u001b[0m in \u001b[0;36m<cell line: 0>\u001b[0;34m()\u001b[0m\n\u001b[1;32m      1\u001b[0m \u001b[0;31m#D できなかった\u001b[0m\u001b[0;34m\u001b[0m\u001b[0;34m\u001b[0m\u001b[0m\n\u001b[0;32m----> 2\u001b[0;31m \u001b[0mN\u001b[0m\u001b[0;34m,\u001b[0m \u001b[0mK\u001b[0m \u001b[0;34m=\u001b[0m \u001b[0mmap\u001b[0m\u001b[0;34m(\u001b[0m\u001b[0mint\u001b[0m\u001b[0;34m,\u001b[0m \u001b[0minput\u001b[0m\u001b[0;34m(\u001b[0m\u001b[0;34m)\u001b[0m\u001b[0;34m.\u001b[0m\u001b[0msplit\u001b[0m\u001b[0;34m(\u001b[0m\u001b[0;34m)\u001b[0m\u001b[0;34m)\u001b[0m\u001b[0;34m\u001b[0m\u001b[0;34m\u001b[0m\u001b[0m\n\u001b[0m\u001b[1;32m      3\u001b[0m \u001b[0mS\u001b[0m \u001b[0;34m=\u001b[0m \u001b[0mlist\u001b[0m\u001b[0;34m(\u001b[0m\u001b[0minput\u001b[0m\u001b[0;34m(\u001b[0m\u001b[0;34m)\u001b[0m\u001b[0;34m)\u001b[0m\u001b[0;34m\u001b[0m\u001b[0;34m\u001b[0m\u001b[0m\n\u001b[1;32m      4\u001b[0m \u001b[0;34m\u001b[0m\u001b[0m\n\u001b[1;32m      5\u001b[0m \u001b[0mfixed_o\u001b[0m \u001b[0;34m=\u001b[0m \u001b[0;34m[\u001b[0m\u001b[0mi\u001b[0m \u001b[0;32mfor\u001b[0m \u001b[0mi\u001b[0m\u001b[0;34m,\u001b[0m \u001b[0mc\u001b[0m \u001b[0;32min\u001b[0m \u001b[0menumerate\u001b[0m\u001b[0;34m(\u001b[0m\u001b[0mS\u001b[0m\u001b[0;34m)\u001b[0m \u001b[0;32mif\u001b[0m \u001b[0mc\u001b[0m \u001b[0;34m==\u001b[0m \u001b[0;34m'o'\u001b[0m\u001b[0;34m]\u001b[0m  \u001b[0;31m#確定しているoの数\u001b[0m\u001b[0;34m\u001b[0m\u001b[0;34m\u001b[0m\u001b[0m\n",
            "\u001b[0;32m/usr/local/lib/python3.11/dist-packages/ipykernel/kernelbase.py\u001b[0m in \u001b[0;36mraw_input\u001b[0;34m(self, prompt)\u001b[0m\n\u001b[1;32m   1175\u001b[0m                 \u001b[0;34m\"raw_input was called, but this frontend does not support input requests.\"\u001b[0m\u001b[0;34m\u001b[0m\u001b[0;34m\u001b[0m\u001b[0m\n\u001b[1;32m   1176\u001b[0m             )\n\u001b[0;32m-> 1177\u001b[0;31m         return self._input_request(\n\u001b[0m\u001b[1;32m   1178\u001b[0m             \u001b[0mstr\u001b[0m\u001b[0;34m(\u001b[0m\u001b[0mprompt\u001b[0m\u001b[0;34m)\u001b[0m\u001b[0;34m,\u001b[0m\u001b[0;34m\u001b[0m\u001b[0;34m\u001b[0m\u001b[0m\n\u001b[1;32m   1179\u001b[0m             \u001b[0mself\u001b[0m\u001b[0;34m.\u001b[0m\u001b[0m_parent_ident\u001b[0m\u001b[0;34m[\u001b[0m\u001b[0;34m\"shell\"\u001b[0m\u001b[0;34m]\u001b[0m\u001b[0;34m,\u001b[0m\u001b[0;34m\u001b[0m\u001b[0;34m\u001b[0m\u001b[0m\n",
            "\u001b[0;32m/usr/local/lib/python3.11/dist-packages/ipykernel/kernelbase.py\u001b[0m in \u001b[0;36m_input_request\u001b[0;34m(self, prompt, ident, parent, password)\u001b[0m\n\u001b[1;32m   1217\u001b[0m             \u001b[0;32mexcept\u001b[0m \u001b[0mKeyboardInterrupt\u001b[0m\u001b[0;34m:\u001b[0m\u001b[0;34m\u001b[0m\u001b[0;34m\u001b[0m\u001b[0m\n\u001b[1;32m   1218\u001b[0m                 \u001b[0;31m# re-raise KeyboardInterrupt, to truncate traceback\u001b[0m\u001b[0;34m\u001b[0m\u001b[0;34m\u001b[0m\u001b[0m\n\u001b[0;32m-> 1219\u001b[0;31m                 \u001b[0;32mraise\u001b[0m \u001b[0mKeyboardInterrupt\u001b[0m\u001b[0;34m(\u001b[0m\u001b[0;34m\"Interrupted by user\"\u001b[0m\u001b[0;34m)\u001b[0m \u001b[0;32mfrom\u001b[0m \u001b[0;32mNone\u001b[0m\u001b[0;34m\u001b[0m\u001b[0;34m\u001b[0m\u001b[0m\n\u001b[0m\u001b[1;32m   1220\u001b[0m             \u001b[0;32mexcept\u001b[0m \u001b[0mException\u001b[0m\u001b[0;34m:\u001b[0m\u001b[0;34m\u001b[0m\u001b[0;34m\u001b[0m\u001b[0m\n\u001b[1;32m   1221\u001b[0m                 \u001b[0mself\u001b[0m\u001b[0;34m.\u001b[0m\u001b[0mlog\u001b[0m\u001b[0;34m.\u001b[0m\u001b[0mwarning\u001b[0m\u001b[0;34m(\u001b[0m\u001b[0;34m\"Invalid Message:\"\u001b[0m\u001b[0;34m,\u001b[0m \u001b[0mexc_info\u001b[0m\u001b[0;34m=\u001b[0m\u001b[0;32mTrue\u001b[0m\u001b[0;34m)\u001b[0m\u001b[0;34m\u001b[0m\u001b[0;34m\u001b[0m\u001b[0m\n",
            "\u001b[0;31mKeyboardInterrupt\u001b[0m: Interrupted by user"
          ]
        }
      ]
    }
  ]
}